{
 "cells": [
  {
   "cell_type": "markdown",
   "metadata": {},
   "source": [
    "## The Battle of Neighborhood (Week_01)"
   ]
  },
  {
   "cell_type": "markdown",
   "metadata": {},
   "source": [
    "### Intorduction :- "
   ]
  },
  {
   "cell_type": "markdown",
   "metadata": {},
   "source": [
    "Here we will be identyfing the most suitable location in Toronto, Canada for a __Gambling Centre__"
   ]
  },
  {
   "cell_type": "markdown",
   "metadata": {},
   "source": [
    "### Bussiness Problem :- \n",
    "Toronto is one of the most populous cities in North America. And it is home to many migrants from all over the world.\n",
    "Immigration from past few decades has changed the demography of Toronto completely. Now there are many restaurants and shopping\n",
    "complexes all over the city. Also due to this Toronto also gets an excellent Tourist attention every year independent of the \n",
    "quarters of the year.\n",
    "The city is a major center for banking and finance, retailing, world trade, transportation, tourism, real estate, new media, traditional media, advertising, legal services, accountancy, insurance, theater, fashion, and the arts in the Canada.\n",
    "\n",
    "All these factors contribute towards making the market of Toronto highly competitive. So any person or any organization which\n",
    "is looking to invest here needs to analyze the locality of Toronto completely. The insights derived from analysis will give good understanding of the business environment which help in strategically targeting the market. This will help in reduction of risk. And the Return on Investment will be reasonable."
   ]
  },
  {
   "cell_type": "markdown",
   "metadata": {},
   "source": [
    "# Problem Statement :- \n",
    "## In short they asked us, **Where they should open the GAMBLING CENTRE ?**"
   ]
  },
  {
   "cell_type": "markdown",
   "metadata": {},
   "source": [
    "### Problem Description :- \n",
    "\n",
    "Gambling is the practice or act of playing games of chance for a stake. In most cases, the stake is money. However, if the gambler has run out of money, the stake could include any possession. Gamble means the same as betting or wagering. We call somebody who bets a gambler. Gamblers bet on something that results either in a gain for them, or a loss.\n",
    "\n",
    "And a **Gambling Bussiness** is the one who gives the money to their customers on either on thier winnings or as a loan in exchange of a valuable thing. Also many countries have certain restrictions to gambling bussinesses so we also need to take them into considerations. And we are not alone in this bussiness in the city there are our fellow competitors too. So for us to floursih we need to asses the neibourhood of the city precisely."
   ]
  },
  {
   "cell_type": "markdown",
   "metadata": {},
   "source": [
    "Hence to survive in such competitive market it is very important to strategically plan. Various factors need to be studied inorder to decide on the Location such as :- \n",
    "\n",
    "- Totonto Population\n",
    "- Toronto Demographics\n",
    "- Are there any venues like Gyms, Entertainmnet zones, Parks etc nearby where floating population is high etc\n",
    "- Who are the competitors in that location?\n",
    "- Top restaurants and bar of the cities\n",
    "- Services provided by the competitors\n",
    "- Segmentation of the Borough etc\n",
    "\n",
    "The list can go on..."
   ]
  },
  {
   "cell_type": "markdown",
   "metadata": {},
   "source": [
    "### Target Audience:- "
   ]
  },
  {
   "cell_type": "markdown",
   "metadata": {},
   "source": [
    "\n",
    "To recommend the correct location, ABC Company Ltd has appointed me to lead of the Data Science team. The objective is to locate and recommend to the management which neighborhood of Toronto city will be best choice to start a **Gambling Centre**. The Management also expects to understand the rationale of the recommendations made.\n",
    "\n",
    "This would interest anyone who wants to start a **Gambling Centre** in the city of Toronto."
   ]
  },
  {
   "cell_type": "markdown",
   "metadata": {},
   "source": [
    "Success Criteria:\n",
    "The success criteria of the project will be a good recommendation of borough/Neighborhood choice to ABC Company Ltd based on limited number of gambling centers in the city also the limited amount of services offered to the customers too."
   ]
  },
  {
   "cell_type": "code",
   "execution_count": null,
   "metadata": {},
   "outputs": [],
   "source": []
  }
 ],
 "metadata": {
  "kernelspec": {
   "display_name": "Python 3",
   "language": "python",
   "name": "python3"
  },
  "language_info": {
   "codemirror_mode": {
    "name": "ipython",
    "version": 3
   },
   "file_extension": ".py",
   "mimetype": "text/x-python",
   "name": "python",
   "nbconvert_exporter": "python",
   "pygments_lexer": "ipython3",
   "version": "3.7.6"
  }
 },
 "nbformat": 4,
 "nbformat_minor": 4
}
